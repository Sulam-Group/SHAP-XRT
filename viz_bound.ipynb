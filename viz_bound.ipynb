{
 "cells": [
  {
   "cell_type": "code",
   "execution_count": null,
   "metadata": {},
   "outputs": [],
   "source": [
    "import os\n",
    "import numpy as np\n",
    "import matplotlib.pyplot as plt\n",
    "import seaborn as sns\n",
    "\n",
    "\n",
    "sns.set_theme(style=\"white\")\n",
    "sns.set_context(\"paper\", font_scale=1.5)\n",
    "\n",
    "figure_dir = os.path.join(\"figures\", \"bound\")\n",
    "os.makedirs(figure_dir, exist_ok=True)"
   ]
  },
  {
   "cell_type": "code",
   "execution_count": null,
   "metadata": {},
   "outputs": [],
   "source": [
    "_, ax = plt.subplots(figsize=(16 / 2, 9 / 2))\n",
    "pos_gg = np.linspace(0, 1, 200)\n",
    "neg_gg = np.linspace(-1, 0)\n",
    "\n",
    "zero = np.zeros_like(pos_gg)\n",
    "one = np.ones_like(neg_gg)\n",
    "ub = 1 - pos_gg\n",
    "lb = neg_gg**2\n",
    "\n",
    "ax.plot(pos_gg, ub, \"k\", linewidth=1.5)\n",
    "ax.plot(neg_gg, lb, \"k\", linewidth=1.5)\n",
    "\n",
    "alpha = 0.20\n",
    "ax.axhline(alpha, xmin=-1, xmax=1, color=\"r\", linestyle=\"--\", linewidth=1.5)\n",
    "ax.axvline(-np.sqrt(alpha), ymin=alpha, ymax=1, color=\"r\", linewidth=1.5)\n",
    "ax.axvline(1 - alpha, ymin=0, ymax=alpha, color=\"r\", linewidth=1.5)\n",
    "ax.text(-0.9, alpha + 2e-02, r\"$\\alpha = %.2f$\" % alpha, color=\"r\")\n",
    "ax.text(-np.sqrt(alpha), -0.1, r\"$-\\sqrt{\\alpha}$\", color=\"r\")\n",
    "ax.text(1 - alpha, -0.1, r\"$1-\\alpha$\", color=\"r\")\n",
    "ax.text(0.5, 0.6, r\"$p_{j,C} = 1 - \\gamma_{j,C}$\")\n",
    "ax.text(-0.9, 0.6, r\"$p_{j,C} = \\gamma_{j,C}^2$\")\n",
    "\n",
    "ax.fill_between(\n",
    "    pos_gg[pos_gg >= 1 - alpha],\n",
    "    zero[pos_gg >= 1 - alpha],\n",
    "    ub[pos_gg >= 1 - alpha],\n",
    "    color=\"#c2d0e9\",\n",
    ")\n",
    "ax.fill_between(\n",
    "    neg_gg[neg_gg <= -np.sqrt(alpha)],\n",
    "    lb[neg_gg <= -np.sqrt(alpha)],\n",
    "    one[neg_gg <= -np.sqrt(alpha)],\n",
    "    color=\"#c2d0e9\",\n",
    ")\n",
    "\n",
    "ax.set_xlabel(r\"$\\gamma_{j,C}$\")\n",
    "ax.set_ylabel(r\"$p_{j,C}$\")\n",
    "eps = 1e-02\n",
    "ax.set_xlim(-1, 1)\n",
    "ax.set_ylim(0, 1)\n",
    "ax.set_xticks([-1, 0, 1])\n",
    "ax.set_yticks([0, 0.5, 1])\n",
    "plt.savefig(os.path.join(figure_dir, \"bound.pdf\"), bbox_inches=\"tight\")\n",
    "plt.savefig(os.path.join(figure_dir, \"bound.png\"), bbox_inches=\"tight\")\n",
    "plt.show()"
   ]
  },
  {
   "cell_type": "code",
   "execution_count": null,
   "metadata": {},
   "outputs": [],
   "source": []
  }
 ],
 "metadata": {
  "kernelspec": {
   "display_name": "cuda116",
   "language": "python",
   "name": "python3"
  },
  "language_info": {
   "codemirror_mode": {
    "name": "ipython",
    "version": 3
   },
   "file_extension": ".py",
   "mimetype": "text/x-python",
   "name": "python",
   "nbconvert_exporter": "python",
   "pygments_lexer": "ipython3",
   "version": "3.11.5"
  }
 },
 "nbformat": 4,
 "nbformat_minor": 2
}
