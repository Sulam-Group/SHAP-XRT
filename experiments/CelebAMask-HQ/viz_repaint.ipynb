{
 "cells": [
  {
   "cell_type": "code",
   "execution_count": null,
   "metadata": {},
   "outputs": [],
   "source": [
    "import os\n",
    "import torch\n",
    "import matplotlib.pyplot as plt\n",
    "import repaint_lib\n",
    "from torchvision.utils import make_grid\n",
    "from tqdm import tqdm\n",
    "\n",
    "workdir = \"./\"\n",
    "repaint_dir = os.path.join(workdir, \"repaint\")\n",
    "\n",
    "gamma = 5\n",
    "s = repaint_lib.get_s(gamma=gamma)"
   ]
  },
  {
   "cell_type": "code",
   "execution_count": null,
   "metadata": {},
   "outputs": [],
   "source": [
    "for idx in os.listdir(repaint_dir):\n",
    "    idx_dir = os.path.join(repaint_dir, idx)\n",
    "\n",
    "    x0 = torch.load(os.path.join(idx_dir, \"original.pt\"))\n",
    "\n",
    "    for _s in tqdm(s[::-1]):\n",
    "        _s_name = \"\".join([str(u) for u in _s])\n",
    "        _s_dir = os.path.join(idx_dir, _s_name)\n",
    "        checkpoint_dir = os.path.join(_s_dir, \"checkpoints\")\n",
    "\n",
    "        repainted_filename = os.path.join(_s_dir, \"repainted.pt\")\n",
    "        if os.path.exists(repainted_filename):\n",
    "            m = torch.load(os.path.join(_s_dir, \"mask.pt\"))\n",
    "            repainted = torch.load(repainted_filename)\n",
    "\n",
    "            x = m * x0\n",
    "\n",
    "            data = torch.cat([x0, x, repainted], dim=0)\n",
    "            data = torch.clamp(data, 0, 1)\n",
    "            im = make_grid(data, nrow=9)\n",
    "\n",
    "            _, ax = plt.subplots(figsize=(16, 9))\n",
    "            ax.imshow(im.permute(1, 2, 0))\n",
    "            ax.axis(\"off\")\n",
    "            ax.set_title(f\"S = {_s}\")\n",
    "            plt.savefig(os.path.join(_s_dir, \"results.pdf\"), bbox_inches=\"tight\")\n",
    "            plt.savefig(os.path.join(_s_dir, \"results.jpg\"), bbox_inches=\"tight\")\n",
    "            plt.close()\n",
    "\n",
    "            steps = os.listdir(checkpoint_dir)\n",
    "            checkpoints = torch.stack(\n",
    "                [torch.load(os.path.join(checkpoint_dir, s)) for s in steps], dim=1\n",
    "            )\n",
    "\n",
    "            data = torch.cat([x0, x, checkpoints[0]], dim=0)\n",
    "            data = torch.clamp(data, 0, 1)\n",
    "            im = make_grid(data, nrow=9)\n",
    "\n",
    "            _, ax = plt.subplots(figsize=(16, 9))\n",
    "            ax.imshow(im.permute(1, 2, 0))\n",
    "            ax.axis(\"off\")\n",
    "            ax.set_title(f\"S = {_s}\")\n",
    "            plt.savefig(os.path.join(_s_dir, \"checkpoints.pdf\"), bbox_inches=\"tight\")\n",
    "            plt.savefig(os.path.join(_s_dir, \"checkpoints.jpg\"), bbox_inches=\"tight\")\n",
    "            plt.close()"
   ]
  },
  {
   "cell_type": "code",
   "execution_count": null,
   "metadata": {},
   "outputs": [],
   "source": []
  }
 ],
 "metadata": {
  "kernelspec": {
   "display_name": "cuda116",
   "language": "python",
   "name": "python3"
  },
  "language_info": {
   "codemirror_mode": {
    "name": "ipython",
    "version": 3
   },
   "file_extension": ".py",
   "mimetype": "text/x-python",
   "name": "python",
   "nbconvert_exporter": "python",
   "pygments_lexer": "ipython3",
   "version": "3.10.9"
  }
 },
 "nbformat": 4,
 "nbformat_minor": 2
}
