{
 "cells": [
  {
   "cell_type": "code",
   "execution_count": null,
   "metadata": {},
   "outputs": [],
   "source": [
    "import numpy as np\n",
    "import matplotlib.pyplot as plt\n",
    "import seaborn as sns\n",
    "import repaint_lib\n",
    "from diffusers import DiffusionPipeline\n",
    "\n",
    "sns.set_style()\n",
    "sns.set_theme(\"talk\")"
   ]
  },
  {
   "cell_type": "code",
   "execution_count": null,
   "metadata": {},
   "outputs": [],
   "source": [
    "model_id = \"google/ncsnpp-celebahq-256\"\n",
    "sde_ve = DiffusionPipeline.from_pretrained(model_id)\n",
    "scheduler, unet = sde_ve.scheduler, sde_ve.unet\n",
    "\n",
    "sigma_min, sigma_max = scheduler.config.sigma_min, scheduler.config.sigma_max\n",
    "repaint_steps = 1000\n",
    "repaint_jump = 10\n",
    "repaint_n_samples = 5\n",
    "repaint_schedule = repaint_lib.get_schedule(\n",
    "    1,\n",
    "    repaint_steps,\n",
    "    repaint_jump,\n",
    "    repaint_n_samples,\n",
    "    eps=scheduler.config.sampling_eps,\n",
    ")\n",
    "sigmas = sigma_min * (sigma_max / sigma_min) ** repaint_schedule\n",
    "\n",
    "_, ax = plt.subplots(figsize=(16, 9))\n",
    "ax.plot(repaint_schedule)\n",
    "ax.set_xlabel(\"Step\")\n",
    "ax.set_ylabel(r\"$t$\")\n",
    "plt.show()\n",
    "\n",
    "_, ax = plt.subplots(figsize=(16, 9))\n",
    "ax.plot(sigmas)\n",
    "ax.set_ylabel(r\"$\\sigma$\")\n",
    "ax.set_xlabel(\"Step\")\n",
    "plt.show()"
   ]
  },
  {
   "cell_type": "code",
   "execution_count": null,
   "metadata": {},
   "outputs": [],
   "source": []
  }
 ],
 "metadata": {
  "kernelspec": {
   "display_name": "cuda116",
   "language": "python",
   "name": "python3"
  },
  "language_info": {
   "codemirror_mode": {
    "name": "ipython",
    "version": 3
   },
   "file_extension": ".py",
   "mimetype": "text/x-python",
   "name": "python",
   "nbconvert_exporter": "python",
   "pygments_lexer": "ipython3",
   "version": "3.10.9"
  },
  "vscode": {
   "interpreter": {
    "hash": "a22ede1198d678ad2a1cff9cda8d5b8766f1097d9385ad651df4552564969b5d"
   }
  }
 },
 "nbformat": 4,
 "nbformat_minor": 2
}
