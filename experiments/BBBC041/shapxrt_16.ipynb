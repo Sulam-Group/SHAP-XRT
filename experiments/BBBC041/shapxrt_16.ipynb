{
 "cells": [
  {
   "cell_type": "code",
   "execution_count": null,
   "metadata": {},
   "outputs": [],
   "source": [
    "import os\n",
    "import matplotlib.pyplot as plt\n",
    "import seaborn as sns\n",
    "from PIL import Image\n",
    "from bbbc041_utils import annotate, reject_fpr_tpr, shapxrt_heatmap\n",
    "\n",
    "root_dir = \"../../\"\n",
    "data_dir = os.path.join(\"data\")\n",
    "figure_dir = os.path.join(root_dir, \"figures\", \"BBBC041\")\n",
    "os.makedirs(figure_dir, exist_ok=True)\n",
    "\n",
    "demo_image = \"2f6224be-50d0-4e85-94ef-88315df561b6\"\n",
    "demo_image_path = os.path.join(\"demo\", f\"{demo_image}.png\")\n",
    "\n",
    "sns.set_theme()\n",
    "sns.set_context(\"paper\", font_scale=1.8)"
   ]
  },
  {
   "cell_type": "code",
   "execution_count": null,
   "metadata": {},
   "outputs": [],
   "source": [
    "image = Image.open(demo_image_path)\n",
    "w, h = image.size\n",
    "gamma, gamma_per_dim = 16, 4\n",
    "\n",
    "_, ax = plt.subplots(figsize=(16 / 2, 9 / 2))\n",
    "ax.imshow(image)\n",
    "ax.axis(\"off\")\n",
    "ax.set_title(\"input image\")\n",
    "annotate(demo_image, ax)\n",
    "for i in range(1, gamma_per_dim):\n",
    "    ax.axvline(i * w // gamma_per_dim, c=\"k\", linestyle=\"--\", linewidth=2)\n",
    "    ax.axhline(i * h // gamma_per_dim, c=\"k\", linestyle=\"--\", linewidth=2)\n",
    "for j in range(gamma):\n",
    "    xcoord = (j % 4 * w // gamma_per_dim) + 20\n",
    "    ycoord = (j // 4 * h // gamma_per_dim) + 65\n",
    "    ax.text(xcoord, ycoord, f\"$j = %d$\" % (j + 1), fontsize=\"x-small\")\n",
    "\n",
    "plt.savefig(os.path.join(figure_dir, \"input_16.pdf\"), bbox_inches=\"tight\")\n",
    "plt.savefig(os.path.join(figure_dir, \"input_16.png\"), bbox_inches=\"tight\")\n",
    "plt.show()"
   ]
  },
  {
   "cell_type": "code",
   "execution_count": null,
   "metadata": {},
   "outputs": [],
   "source": [
    "true_feature_trophozoite = [1, 2, 9, 14]\n",
    "thresholds, reject, fpr, tpr = reject_fpr_tpr(gamma, true_feature_trophozoite)\n",
    "\n",
    "_, axes = plt.subplots(1, 3, figsize=(3 / 2 * 16, 9 / 2))\n",
    "first_trophozoite, first_not_trophozoite = True, True\n",
    "for j in range(1, gamma + 1):\n",
    "    is_j_trophozoite = j in true_feature_trophozoite\n",
    "    c = \"#2ca02c\" if is_j_trophozoite else \"#d62728\"\n",
    "    label = \"trophozoite\" if is_j_trophozoite else \"not trophozoite\"\n",
    "    print_legend = (\n",
    "        True\n",
    "        if (is_j_trophozoite and first_trophozoite)\n",
    "        or (not is_j_trophozoite and first_not_trophozoite)\n",
    "        else False\n",
    "    )\n",
    "\n",
    "    ax = axes[0]\n",
    "    ax.plot(thresholds, reject[j], c=c)\n",
    "\n",
    "    ax = axes[1]\n",
    "    ax.plot(thresholds, fpr[j], c=c)\n",
    "\n",
    "    ax = axes[2]\n",
    "    ax.plot(thresholds, tpr[j], c=c, label=label if print_legend else None)\n",
    "\n",
    "    if print_legend and is_j_trophozoite:\n",
    "        first_trophozoite = False\n",
    "    if print_legend and not is_j_trophozoite:\n",
    "        first_not_trophozoite = False\n",
    "\n",
    "ax = axes[0]\n",
    "ax.set_xlabel(\"Output threshold\")\n",
    "ax.set_ylabel(\"Rejected tests\")\n",
    "\n",
    "ax = axes[1]\n",
    "ax.set_xlabel(\"Output threshold\")\n",
    "ax.set_ylabel(\"FPR\")\n",
    "\n",
    "ax = axes[2]\n",
    "ax.set_xlabel(\"Output threshold\")\n",
    "ax.set_ylabel(\"TPR\")\n",
    "ax.legend()\n",
    "plt.savefig(os.path.join(figure_dir, \"reject_fpr_tpr_16.pdf\"), bbox_inches=\"tight\")\n",
    "plt.savefig(os.path.join(figure_dir, \"reject_fpr_tpr_16.png\"), bbox_inches=\"tight\")\n",
    "plt.show()"
   ]
  },
  {
   "cell_type": "code",
   "execution_count": null,
   "metadata": {},
   "outputs": [],
   "source": [
    "reject_sort_features = sorted(reject.keys(), key=lambda x: reject[x][-10])\n",
    "fpr_sort_features = sorted(fpr.keys(), key=lambda x: fpr[x][-10])\n",
    "tpr_sort_features = sorted(tpr.keys(), key=lambda x: tpr[x][-10])\n",
    "print(reject_sort_features)\n",
    "print(fpr_sort_features)\n",
    "print(tpr_sort_features)"
   ]
  },
  {
   "cell_type": "code",
   "execution_count": null,
   "metadata": {},
   "outputs": [],
   "source": [
    "_, axes = plt.subplots(1, 2, figsize=(16, 9 / 2))\n",
    "for ax in axes:\n",
    "    ax.imshow(image)\n",
    "    ax.axis(\"off\")\n",
    "    annotate(demo_image, ax)\n",
    "    for i in range(1, gamma_per_dim):\n",
    "        ax.axvline(i * w // gamma_per_dim, c=\"k\", linestyle=\"--\", linewidth=2)\n",
    "        ax.axhline(i * h // gamma_per_dim, c=\"k\", linestyle=\"--\", linewidth=2)\n",
    "    for j in range(gamma):\n",
    "        xcoord = (j % 4 * w // gamma_per_dim) + 20\n",
    "        ycoord = (j // 4 * h // gamma_per_dim) + 65\n",
    "        ax.text(xcoord, ycoord, f\"$j = %d$\" % (j + 1), fontsize=\"x-small\")\n",
    "\n",
    "ax = axes[0]\n",
    "shapxrt_heatmap(ax, h, w, 9, gamma)\n",
    "ax.set_title(\"SHAP-XRT heatmap for $j = 9$\")\n",
    "\n",
    "ax = axes[1]\n",
    "shapxrt_heatmap(ax, h, w, 8, gamma)\n",
    "ax.set_title(\"SHAP-XRT heatmap for $j = 8$\")\n",
    "plt.savefig(os.path.join(figure_dir, \"shapxrt_heatmap_16.pdf\"), bbox_inches=\"tight\")\n",
    "plt.savefig(os.path.join(figure_dir, \"shapxrt_heatmap_16.png\"), bbox_inches=\"tight\")\n",
    "plt.show()"
   ]
  },
  {
   "cell_type": "code",
   "execution_count": null,
   "metadata": {},
   "outputs": [],
   "source": [
    "2**15"
   ]
  },
  {
   "cell_type": "code",
   "execution_count": null,
   "metadata": {},
   "outputs": [],
   "source": []
  }
 ],
 "metadata": {
  "kernelspec": {
   "display_name": "cuda102",
   "language": "python",
   "name": "python3"
  },
  "language_info": {
   "codemirror_mode": {
    "name": "ipython",
    "version": 3
   },
   "file_extension": ".py",
   "mimetype": "text/x-python",
   "name": "python",
   "nbconvert_exporter": "python",
   "pygments_lexer": "ipython3",
   "version": "3.10.4"
  }
 },
 "nbformat": 4,
 "nbformat_minor": 2
}
