{
 "cells": [
  {
   "cell_type": "code",
   "execution_count": null,
   "metadata": {},
   "outputs": [],
   "source": [
    "import os\n",
    "import argparse\n",
    "import torch\n",
    "import torch.nn as nn\n",
    "import pickle\n",
    "import time\n",
    "import hshap\n",
    "import matplotlib.pyplot as plt\n",
    "from torchvision.datasets import ImageFolder\n",
    "from torchvision import transforms\n",
    "from torch.utils.data import DataLoader\n",
    "\n",
    "os.environ[\"CUDA_VISIBLE_DEVICES\"] = \"8\"\n",
    "device = torch.device(\"cuda:0\" if torch.cuda.is_available() else \"cpu\")\n",
    "\n",
    "root_dir = \"../../../\"\n",
    "experiment_dir = os.path.join(root_dir, \"experiments\", \"BBBC041\")\n",
    "data_dir = os.path.join(experiment_dir, \"data\")\n",
    "trophozoite_dir = os.path.join(data_dir, \"trophozoite\")\n",
    "explanation_dir = os.path.join(experiment_dir, \"explanations\")\n",
    "\n",
    "torch.backends.cudnn.deterministic = True\n",
    "torch.backends.cudnn.benchmark = False\n",
    "torch.set_grad_enabled(False)"
   ]
  },
  {
   "cell_type": "code",
   "execution_count": null,
   "metadata": {},
   "outputs": [],
   "source": [
    "model = torch.hub.load(\"pytorch/vision:v0.10.0\", \"resnet18\", pretrained=False)\n",
    "num_ftrs = model.fc.in_features\n",
    "model.fc = nn.Linear(num_ftrs, 2)\n",
    "model.load_state_dict(\n",
    "    torch.load(\n",
    "        os.path.join(experiment_dir, \"pretrained_model\", \"model.pt\"),\n",
    "        map_location=device,\n",
    "    )\n",
    ")\n",
    "model = model.to(device)\n",
    "model.eval()\n",
    "x = torch.randn(1, 3, 1200, 1600, device=device)\n",
    "model(x)\n",
    "torch.cuda.empty_cache()"
   ]
  },
  {
   "cell_type": "code",
   "execution_count": null,
   "metadata": {},
   "outputs": [],
   "source": [
    "mean = torch.tensor([0.485, 0.456, 0.406])\n",
    "std = torch.tensor([0.229, 0.224, 0.225])\n",
    "transform = transforms.Compose([transforms.ToTensor(), transforms.Normalize(mean, std)])\n",
    "unnorm = transforms.Normalize(-mean / std, 1 / std)\n",
    "dataset = ImageFolder(os.path.join(trophozoite_dir, \"val\"), transform)\n",
    "image_names = [os.path.basename(x[0]).split(\".\")[0] for x in dataset.samples]\n",
    "dataloader = DataLoader(dataset, batch_size=1, num_workers=4, shuffle=False)"
   ]
  },
  {
   "cell_type": "code",
   "execution_count": null,
   "metadata": {},
   "outputs": [],
   "source": [
    "ref = torch.load(os.path.join(explanation_dir, \"reference.pt\"), map_location=device)\n",
    "hexp = hshap.src.Explainer(\n",
    "    model=model,\n",
    "    background=ref,\n",
    ")\n",
    "print(\"Initialized hshap\")"
   ]
  },
  {
   "cell_type": "code",
   "execution_count": null,
   "metadata": {},
   "outputs": [],
   "source": [
    "for i, data in enumerate(dataloader):\n",
    "    if i == 116:\n",
    "        print(\"check\")\n",
    "        input, _ = data\n",
    "        plt.imshow(torch.permute(unnorm(input[0]), (1, 2, 0)))\n",
    "        plt.show()\n",
    "\n",
    "        input = input.to(device)\n",
    "\n",
    "        explanation = hexp.explain(\n",
    "            input,\n",
    "            label=1,\n",
    "            s=800,\n",
    "            threshold_mode=\"absolute\",\n",
    "            threshold=0,\n",
    "            softmax_activation=True,\n",
    "            logit_threshold=0.50,\n",
    "            batch_size=2,\n",
    "            binary_map=True,\n",
    "            return_shaplit=True,\n",
    "        )\n",
    "        break"
   ]
  },
  {
   "cell_type": "code",
   "execution_count": null,
   "metadata": {},
   "outputs": [],
   "source": []
  }
 ],
 "metadata": {
  "kernelspec": {
   "display_name": "Python 3.8.13 ('cuda102')",
   "language": "python",
   "name": "python3"
  },
  "language_info": {
   "codemirror_mode": {
    "name": "ipython",
    "version": 3
   },
   "file_extension": ".py",
   "mimetype": "text/x-python",
   "name": "python",
   "nbconvert_exporter": "python",
   "pygments_lexer": "ipython3",
   "version": "3.8.13"
  },
  "vscode": {
   "interpreter": {
    "hash": "bd8c972ecb72e669b05b9af0bbaad01a2103da39053b5ad2ceb924e75319f022"
   }
  }
 },
 "nbformat": 4,
 "nbformat_minor": 2
}
