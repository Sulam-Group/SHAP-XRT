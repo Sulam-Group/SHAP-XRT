{
 "cells": [
  {
   "cell_type": "code",
   "execution_count": null,
   "metadata": {},
   "outputs": [],
   "source": [
    "import os\n",
    "import sys\n",
    "import pandas as pd\n",
    "import numpy as np\n",
    "import torch\n",
    "import torch.nn as nn\n",
    "from torchvision import transforms\n",
    "from torch.utils.data import DataLoader\n",
    "from sklearn.metrics import precision_recall_fscore_support\n",
    "from tqdm import tqdm\n",
    "\n",
    "root_dir = \"../../../\"\n",
    "sys.path.append(root_dir)\n",
    "\n",
    "from dataset import BBBC041Dataset\n",
    "from utils import HRT\n",
    "\n",
    "os.environ[\"CUDA_VISIBLE_DEVICES\"] = \"8\"\n",
    "device = torch.device(\"cuda:0\" if torch.cuda.is_available() else \"cpu\")\n",
    "\n",
    "experiment_dir = os.path.join(root_dir, \"experiments\", \"BBBC041\")\n",
    "data_dir = os.path.join(experiment_dir, \"data\")\n",
    "trophozoite_dir = os.path.join(data_dir, \"trophozoite\")\n",
    "explanation_dir = os.path.join(experiment_dir, \"explanations\")"
   ]
  },
  {
   "cell_type": "code",
   "execution_count": null,
   "metadata": {},
   "outputs": [],
   "source": [
    "torch.backends.cudnn.deterministic = True\n",
    "torch.backends.cudnn.benchmark = False\n",
    "\n",
    "model = torch.hub.load(\"pytorch/vision:v0.10.0\", \"resnet18\", pretrained=True)\n",
    "num_ftrs = model.fc.in_features\n",
    "model.fc = nn.Linear(num_ftrs, 2)\n",
    "model = model.to(device)\n",
    "model.load_state_dict(\n",
    "    torch.load(\n",
    "        os.path.join(experiment_dir, \"pretrained_model\", \"model.pt\"),\n",
    "        map_location=device,\n",
    "    )\n",
    ")\n",
    "model.eval()\n",
    "torch.set_grad_enabled(False)"
   ]
  },
  {
   "cell_type": "code",
   "execution_count": null,
   "metadata": {},
   "outputs": [],
   "source": [
    "mean = torch.tensor([0.485, 0.456, 0.406])\n",
    "std = torch.tensor([0.229, 0.224, 0.225])\n",
    "transform = transforms.Compose(\n",
    "    [\n",
    "        transforms.ToTensor(),\n",
    "        transforms.Normalize(mean, std),\n",
    "    ]\n",
    ")\n",
    "unnorm = transforms.Normalize(-mean / std, 1 / std)\n",
    "ref = torch.load(os.path.join(trophozoite_dir, \"reference.pt\"), map_location=device)\n",
    "dataset = BBBC041Dataset(os.path.join(trophozoite_dir, \"val\"), ref, transform=transform)\n",
    "dataloader = DataLoader(dataset, batch_size=4, num_workers=4, shuffle=False)\n",
    "image_names = [os.path.basename(x[0]).split(\".\")[0] for x in dataset.samples]"
   ]
  },
  {
   "cell_type": "code",
   "execution_count": null,
   "metadata": {},
   "outputs": [],
   "source": [
    "correct = 0\n",
    "for i, data in enumerate(tqdm(dataloader)):\n",
    "    input, label = data\n",
    "\n",
    "    input = input.to(device)\n",
    "    label = label.to(device)\n",
    "\n",
    "    output = model(input)\n",
    "    prediction = output.argmax(dim=1)\n",
    "\n",
    "    correct += torch.sum(prediction == label)\n",
    "t = 1 - correct / len(dataset)\n",
    "print(f\"Test statistic (1 - accuracy): {100*t:.2f}%\")\n",
    "\n",
    "importance = [int(not HRT(model, dataset, j, 4, t)) for j in range(4)]\n",
    "print(f\"Importance of features: {importance}\")"
   ]
  },
  {
   "cell_type": "code",
   "execution_count": null,
   "metadata": {},
   "outputs": [],
   "source": [
    "quadrant_df = pd.read_pickle(os.path.join(data_dir, \"quadrant_labels\"))\n",
    "flipped_images = np.load(os.path.join(data_dir, \"flipped_images.npy\"))\n",
    "\n",
    "dataloader = DataLoader(dataset, batch_size=1, num_workers=4, shuffle=False)\n",
    "\n",
    "PP = 0\n",
    "TP = 0\n",
    "quadrant_importance = []\n",
    "quadrant_target = []\n",
    "for i, data in enumerate(tqdm(dataloader)):\n",
    "    input, label = data\n",
    "\n",
    "    input = input.to(device)\n",
    "    label = label.to(device)\n",
    "\n",
    "    image_name = image_names[i]\n",
    "    if len(flipped_images) > 0 and image_name in flipped_images:\n",
    "        continue\n",
    "\n",
    "    output = model(input)\n",
    "    prediction = output.argmax(dim=1)\n",
    "\n",
    "    PP += prediction\n",
    "    TP += label\n",
    "\n",
    "    quadrant_labels = quadrant_df.at[image_name, \"quadrant_labels\"]\n",
    "    quadrant_target.extend(quadrant_labels)\n",
    "    quadrant_importance.extend(importance if prediction == 1 else 4 * [0])\n",
    "\n",
    "precision, recall, f1, _ = precision_recall_fscore_support(\n",
    "    quadrant_target,\n",
    "    quadrant_importance,\n",
    "    pos_label=1,\n",
    "    average=\"binary\",\n",
    ")\n",
    "print(\n",
    "    f\"TP: {TP}\",\n",
    "    f\"PP: {PP}\",\n",
    "    f\"precision: {precision:.2f}\",\n",
    "    f\"recall: {recall:.2f}\",\n",
    "    f\"f1: {f1:.2f}\",\n",
    ")"
   ]
  },
  {
   "cell_type": "code",
   "execution_count": null,
   "metadata": {},
   "outputs": [],
   "source": []
  }
 ],
 "metadata": {
  "kernelspec": {
   "display_name": "Python 3.8.13 ('cuda102')",
   "language": "python",
   "name": "python3"
  },
  "language_info": {
   "codemirror_mode": {
    "name": "ipython",
    "version": 3
   },
   "file_extension": ".py",
   "mimetype": "text/x-python",
   "name": "python",
   "nbconvert_exporter": "python",
   "pygments_lexer": "ipython3",
   "version": "3.8.13"
  },
  "vscode": {
   "interpreter": {
    "hash": "bd8c972ecb72e669b05b9af0bbaad01a2103da39053b5ad2ceb924e75319f022"
   }
  }
 },
 "nbformat": 4,
 "nbformat_minor": 2
}
