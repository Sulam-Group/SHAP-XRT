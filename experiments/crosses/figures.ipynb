{
 "cells": [
  {
   "cell_type": "code",
   "execution_count": null,
   "metadata": {},
   "outputs": [],
   "source": [
    "import os\n",
    "import sys\n",
    "import pandas as pd\n",
    "import numpy as np\n",
    "import torch\n",
    "import matplotlib.pyplot as plt\n",
    "import seaborn as sns\n",
    "\n",
    "root_dir = \"../../\"\n",
    "script_dir = os.path.join(root_dir, \"scripts\", \"crosses\")\n",
    "sys.path.append(root_dir)\n",
    "sys.path.append(script_dir)\n",
    "\n",
    "from dataset import Crosses\n",
    "from utils import batch_size, r, s, d, alpha\n",
    "\n",
    "data_dir = \"data\"\n",
    "figure_dir = os.path.join(root_dir, \"figures\", \"crosses\")\n",
    "power_figure_dir = os.path.join(figure_dir, \"power\")\n",
    "example_figure_dir = os.path.join(figure_dir, \"examples\")\n",
    "os.makedirs(figure_dir, exist_ok=True)\n",
    "os.makedirs(power_figure_dir, exist_ok=True)\n",
    "os.makedirs(example_figure_dir, exist_ok=True)\n",
    "\n",
    "sns.set_theme()\n",
    "sns.set_context(\"paper\", font_scale=1.8)"
   ]
  },
  {
   "cell_type": "code",
   "execution_count": null,
   "metadata": {},
   "outputs": [],
   "source": [
    "# code to reproduce Fig. E.1.a\n",
    "dataset = Crosses(batch_size, r, s, d, 1 / d**2)\n",
    "\n",
    "_, ax = plt.subplots()\n",
    "im = ax.imshow(dataset._signal.reshape(d, d), cmap=\"gray\")\n",
    "ax.xaxis.set_visible(False)\n",
    "ax.yaxis.set_visible(False)\n",
    "plt.savefig(os.path.join(figure_dir, \"signal.pdf\"), bbox_inches=\"tight\")\n",
    "plt.show()"
   ]
  },
  {
   "cell_type": "code",
   "execution_count": null,
   "metadata": {},
   "outputs": [],
   "source": [
    "# code to reproduce Fig. E.1.b through E.1.d\n",
    "for sigma in [1 / d**2, 1 / d, 1 / np.sqrt(d)]:\n",
    "    sigma_fig_dir = os.path.join(example_figure_dir, f\"{sigma:.2f}\")\n",
    "    os.makedirs(sigma_fig_dir, exist_ok=True)\n",
    "\n",
    "    dataset = Crosses(batch_size, r, s, d, sigma)\n",
    "\n",
    "    X = dataset.data\n",
    "    Y = dataset.labels\n",
    "\n",
    "    P_idx = Y.nonzero().squeeze()[:2]\n",
    "    N_idx = (1 - Y).nonzero().squeeze()[:2]\n",
    "    idx = torch.cat((P_idx, N_idx))\n",
    "\n",
    "    for i, k in enumerate(idx):\n",
    "        x = X[k].squeeze()\n",
    "        y = Y[k].item()\n",
    "\n",
    "        fig, ax = plt.subplots()\n",
    "        im = ax.imshow(x, cmap=\"gray\", vmin=-3, vmax=3)\n",
    "        ax.set_title(r\"$Y = %d$\" % y)\n",
    "        ax.xaxis.set_visible(False)\n",
    "        ax.yaxis.set_visible(False)\n",
    "        fig.colorbar(im, ax=ax)\n",
    "        plt.savefig(\n",
    "            os.path.join(sigma_fig_dir, f\"{int(y)}_{i % 2}.pdf\"), bbox_inches=\"tight\"\n",
    "        )\n",
    "        plt.close()"
   ]
  },
  {
   "cell_type": "code",
   "execution_count": null,
   "metadata": {},
   "outputs": [],
   "source": [
    "# code to reproduce Fig. 2\n",
    "power_df = pd.read_csv(os.path.join(data_dir, \"power_m.csv\"))\n",
    "sigma_df = pd.read_csv(os.path.join(data_dir, \"power_sigma.csv\"))\n",
    "\n",
    "_, axes = plt.subplots(1, 2, figsize=(16, 9 / 2))\n",
    "\n",
    "ax = axes[0]\n",
    "sns.lineplot(\n",
    "    data=power_df, x=\"m\", y=\"beta\", hue=\"model_name\", ax=ax, ci=95, legend=False\n",
    ")\n",
    "ax.set_xlabel(r\"$m$\")\n",
    "ax.set_ylabel(r\"Power at $\\alpha = %s$\" % alpha)\n",
    "ax.set_xscale(\"log\")\n",
    "ax.set_ylim([-0.05, 1.05])\n",
    "\n",
    "ax = axes[1]\n",
    "sns.lineplot(data=sigma_df, x=\"sigma\", y=\"beta\", hue=\"model_name\", ax=ax, ci=95)\n",
    "ax.set_xlabel(r\"$\\sigma$\")\n",
    "ax.set_ylabel(r\"Power at $\\alpha = %s$\" % alpha)\n",
    "ax.set_xscale(\"log\")\n",
    "ax.set_xticks([1 / d**2, 1 / d, 1 / np.sqrt(d), 2 / np.sqrt(d)])\n",
    "ax.set_xticklabels([r\"$1/d^2$\", r\"$1/d$\", r\"$1/d^{-1/2}$\", r\"$2/d^{-1/2}$\"])\n",
    "ax.set_ylim([-0.05, 1.05])\n",
    "ax.legend(title=\"Model\", loc=\"upper left\", bbox_to_anchor=(1, 1))\n",
    "\n",
    "plt.savefig(os.path.join(power_figure_dir, \"power.pdf\"), bbox_inches=\"tight\")\n",
    "plt.show()"
   ]
  }
 ],
 "metadata": {
  "interpreter": {
   "hash": "4af04b5eb304d7211481e03d838d620ccabc520a197427e4bca5f74ba487b2a6"
  },
  "kernelspec": {
   "display_name": "Python 3.8.13 ('env': venv)",
   "language": "python",
   "name": "python3"
  },
  "language_info": {
   "codemirror_mode": {
    "name": "ipython",
    "version": 3
   },
   "file_extension": ".py",
   "mimetype": "text/x-python",
   "name": "python",
   "nbconvert_exporter": "python",
   "pygments_lexer": "ipython3",
   "version": "3.8.13"
  }
 },
 "nbformat": 4,
 "nbformat_minor": 2
}
