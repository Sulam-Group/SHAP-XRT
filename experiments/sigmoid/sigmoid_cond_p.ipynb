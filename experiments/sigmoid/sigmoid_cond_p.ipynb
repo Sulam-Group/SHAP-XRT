{
 "cells": [
  {
   "cell_type": "code",
   "execution_count": 1,
   "metadata": {},
   "outputs": [],
   "source": [
    "import os\n",
    "import numpy as np\n",
    "import matplotlib.pyplot as plt\n",
    "import seaborn as sns\n",
    "from scipy.stats import norm\n",
    "from scipy.special import expit\n",
    "from tqdm import tqdm\n",
    "\n",
    "root_dir = \"../../\"\n",
    "\n",
    "figure_dir = os.path.join(root_dir, \"figures\", \"sigmoid\")\n",
    "os.makedirs(figure_dir, exist_ok=True)\n",
    "\n",
    "sns.set_theme()\n",
    "sns.set_context(\"paper\", font_scale=1.8)"
   ]
  },
  {
   "cell_type": "code",
   "execution_count": 2,
   "metadata": {},
   "outputs": [],
   "source": [
    "x1_dist = lambda n: norm.rvs(1, 1, size=n)\n",
    "\n",
    "pos_dist = lambda n: norm.rvs(3, 0.5, size=n)\n",
    "neg_dist = lambda n: norm.rvs(-1, 1, size=n)\n",
    "x2_cond = lambda x1: pos_dist(x1.shape[0]) * (x1 >= 3) + neg_dist(x1.shape[0]) * (\n",
    "    x1 < 3\n",
    ")\n",
    "\n",
    "f = lambda x, theta: expit(x @ theta)\n",
    "\n",
    "\n",
    "def make_data(N, d):\n",
    "    X = np.empty((N, 2 * d))\n",
    "    for i in range(d):\n",
    "        x1 = x1_dist(N)\n",
    "        x2 = x2_cond(x1)\n",
    "        X[:, 2 * i] = x1\n",
    "        X[:, 2 * i + 1] = x2\n",
    "    return X"
   ]
  },
  {
   "cell_type": "code",
   "execution_count": 3,
   "metadata": {},
   "outputs": [],
   "source": [
    "N, d = 5000, 3\n",
    "# change theta_2 to -2 to reproduce figure 2.b\n",
    "theta = np.array([[1, -2, 1, 1, 1, 1]], dtype=float).T\n",
    "\n",
    "X = make_data(N, 3)"
   ]
  },
  {
   "cell_type": "code",
   "execution_count": 4,
   "metadata": {},
   "outputs": [
    {
     "name": "stderr",
     "output_type": "stream",
     "text": [
      "  0%|          | 0/5000 [00:00<?, ?it/s]"
     ]
    },
    {
     "name": "stderr",
     "output_type": "stream",
     "text": [
      "100%|██████████| 5000/5000 [01:04<00:00, 77.28it/s]\n"
     ]
    }
   ],
   "source": [
    "M, K = 100, 100\n",
    "\n",
    "p_hat = np.empty((M, N))\n",
    "for i in tqdm(range(N)):\n",
    "    x = X[[i], :]\n",
    "\n",
    "    for j in range(M):\n",
    "        x_t = np.copy(x)\n",
    "        x_t[:, 0] = x1_dist(1)\n",
    "\n",
    "        t = f(x_t, theta)\n",
    "\n",
    "        x_null = np.copy(x)\n",
    "        X_null = np.tile(x_null, (K, 1))\n",
    "\n",
    "        x1_null = x1_dist(K)\n",
    "        x2_null = x2_cond(x1_null)\n",
    "\n",
    "        X_null[:, 0] = x1_null\n",
    "        X_null[:, 1] = x2_null\n",
    "\n",
    "        t_null = f(X_null, theta)\n",
    "\n",
    "        _p_hat = (np.sum(t_null >= t) + 1) / (K + 1)\n",
    "\n",
    "        p_hat[j, i] = _p_hat"
   ]
  },
  {
   "cell_type": "code",
   "execution_count": 5,
   "metadata": {},
   "outputs": [
    {
     "name": "stderr",
     "output_type": "stream",
     "text": [
      "100%|██████████| 5000/5000 [00:00<00:00, 5972.14it/s]\n"
     ]
    }
   ],
   "source": [
    "gamma = np.empty(N)\n",
    "for i in tqdm(range(N)):\n",
    "    x = X[[i], :]\n",
    "\n",
    "    x_t = np.copy(x)\n",
    "    X_t = np.tile(x_t, (K, 1))\n",
    "\n",
    "    x1_t = x1_dist(K)\n",
    "\n",
    "    X_t[:, 0] = x1_t\n",
    "\n",
    "    t = f(X_t, theta)\n",
    "\n",
    "    x_null = np.copy(x)\n",
    "    X_null = np.tile(x_null, (K, 1))\n",
    "\n",
    "    x1_null = x1_dist(K)\n",
    "    x2_null = x2_cond(x1_null)\n",
    "\n",
    "    X_null[:, 0] = x1_null\n",
    "    X_null[:, 1] = x2_null\n",
    "\n",
    "    t_null = f(X_null, theta)\n",
    "\n",
    "    gamma[i] = np.mean(t - t_null)"
   ]
  },
  {
   "cell_type": "code",
   "execution_count": 6,
   "metadata": {},
   "outputs": [
    {
     "name": "stderr",
     "output_type": "stream",
     "text": [
      "100it [00:00, 2144.83it/s]\n"
     ]
    },
    {
     "data": {
      "image/png": "[encoded data removed]",
      "text/plain": [
       "<Figure size 800x450 with 1 Axes>"
      ]
     },
     "metadata": {},
     "output_type": "display_data"
    }
   ],
   "source": [
    "A = 100\n",
    "\n",
    "aa = np.linspace(0.05, 1, A)\n",
    "\n",
    "cond_p, gamma_exp = np.empty((M, A)), np.tile(gamma, (M, 1))\n",
    "for i, a in tqdm(enumerate(aa)):\n",
    "    cond_p[:, i] = np.sum((gamma_exp >= 1 - a) * (p_hat <= a), axis=1) / np.sum(\n",
    "        (p_hat <= a), axis=1\n",
    "    )\n",
    "mu_cond_p, std_cond_p = np.mean(cond_p, axis=0), np.std(cond_p, axis=0)\n",
    "\n",
    "_, ax = plt.subplots(figsize=(16 / 2, 9 / 2))\n",
    "ax.plot(aa, mu_cond_p)\n",
    "ax.set_xlabel(r\"$\\alpha$\")\n",
    "ax.set_ylabel(r\"$P(\\gamma_{j,C} \\geq 1 - \\alpha~|~\\hat{p}_{j,C} \\leq \\alpha)$\")\n",
    "ax.set_xticks([0, 0.25, 0.5, 0.75, 1])\n",
    "ax.set_yscale(\"log\")\n",
    "\n",
    "plt.savefig(os.path.join(figure_dir, \"cond_p.pdf\"), bbox_inches=\"tight\")\n",
    "plt.show()"
   ]
  },
  {
   "cell_type": "code",
   "execution_count": null,
   "metadata": {},
   "outputs": [],
   "source": []
  }
 ],
 "metadata": {
  "kernelspec": {
   "display_name": "cuda118",
   "language": "python",
   "name": "python3"
  },
  "language_info": {
   "codemirror_mode": {
    "name": "ipython",
    "version": 3
   },
   "file_extension": ".py",
   "mimetype": "text/x-python",
   "name": "python",
   "nbconvert_exporter": "python",
   "pygments_lexer": "ipython3",
   "version": "3.11.5"
  }
 },
 "nbformat": 4,
 "nbformat_minor": 2
}
