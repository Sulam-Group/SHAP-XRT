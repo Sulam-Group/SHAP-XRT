{
 "cells": [
  {
   "cell_type": "code",
   "execution_count": null,
   "metadata": {},
   "outputs": [],
   "source": [
    "import os\n",
    "import numpy as np\n",
    "import matplotlib.pyplot as plt\n",
    "import seaborn as sns\n",
    "from scipy.stats import norm\n",
    "from scipy.special import expit\n",
    "from tqdm import tqdm\n",
    "\n",
    "root_dir = \"../../\"\n",
    "\n",
    "figure_dir = os.path.join(root_dir, \"figures\", \"sigmoid\")\n",
    "os.makedirs(figure_dir, exist_ok=True)\n",
    "\n",
    "sns.set_theme()\n",
    "sns.set_context(\"paper\", font_scale=1.8)"
   ]
  },
  {
   "cell_type": "code",
   "execution_count": null,
   "metadata": {},
   "outputs": [],
   "source": [
    "x1_dist = lambda n: norm.rvs(1, 1, size=n)\n",
    "\n",
    "pos_dist = lambda n: norm.rvs(3, 0.5, size=n)\n",
    "neg_dist = lambda n: norm.rvs(-1, 1, size=n)\n",
    "x2_cond = lambda x1: pos_dist(x1.shape[0]) * (x1 >= 3) + neg_dist(x1.shape[0]) * (\n",
    "    x1 < 3\n",
    ")\n",
    "\n",
    "f = lambda x, theta: expit(x @ theta)\n",
    "\n",
    "\n",
    "def make_data(N, d):\n",
    "    X = np.empty((N, 2 * d))\n",
    "    for i in range(d):\n",
    "        x1 = x1_dist(N)\n",
    "        x2 = x2_cond(x1)\n",
    "        X[:, 2 * i] = x1\n",
    "        X[:, 2 * i + 1] = x2\n",
    "    return X"
   ]
  },
  {
   "cell_type": "code",
   "execution_count": null,
   "metadata": {},
   "outputs": [],
   "source": [
    "N, d = 5000, 3\n",
    "# change theta_2 to -2 to reproduce figure 2.b\n",
    "theta = np.array([[1, -2, 1, 1, 1, 1]], dtype=float).T\n",
    "\n",
    "X = make_data(N, 3)"
   ]
  },
  {
   "cell_type": "code",
   "execution_count": null,
   "metadata": {},
   "outputs": [],
   "source": [
    "M, K = 100, 100\n",
    "\n",
    "mean_p = np.empty(N)\n",
    "for i in tqdm(range(N)):\n",
    "    x = X[[i], :]\n",
    "\n",
    "    p_hat = np.empty(M)\n",
    "    for j in range(M):\n",
    "        x_t = np.copy(x)\n",
    "        x_t[:, 0] = x1_dist(1)\n",
    "\n",
    "        t = f(x_t, theta)\n",
    "\n",
    "        x_null = np.copy(x)\n",
    "        X_null = np.tile(x_null, (K, 1))\n",
    "\n",
    "        x1_null = x1_dist(K)\n",
    "        x2_null = x2_cond(x1_null)\n",
    "\n",
    "        X_null[:, 0] = x1_null\n",
    "        X_null[:, 1] = x2_null\n",
    "\n",
    "        t_null = f(X_null, theta)\n",
    "\n",
    "        _p_hat = (np.sum(t_null >= t) + 1) / (K + 1)\n",
    "        p_hat[j] = _p_hat\n",
    "\n",
    "    mean_p[i] = np.mean(p_hat)"
   ]
  },
  {
   "cell_type": "code",
   "execution_count": null,
   "metadata": {},
   "outputs": [],
   "source": [
    "gamma = np.empty(N)\n",
    "for i in tqdm(range(N)):\n",
    "    x = X[[i], :]\n",
    "\n",
    "    x_t = np.copy(x)\n",
    "    X_t = np.tile(x_t, (K, 1))\n",
    "\n",
    "    x1_t = x1_dist(K)\n",
    "\n",
    "    X_t[:, 0] = x1_t\n",
    "\n",
    "    t = f(X_t, theta)\n",
    "\n",
    "    x_null = np.copy(x)\n",
    "    X_null = np.tile(x_null, (K, 1))\n",
    "\n",
    "    x1_null = x1_dist(K)\n",
    "    x2_null = x2_cond(x1_null)\n",
    "\n",
    "    X_null[:, 0] = x1_null\n",
    "    X_null[:, 1] = x2_null\n",
    "\n",
    "    t_null = f(X_null, theta)\n",
    "\n",
    "    gamma[i] = np.mean(t - t_null)"
   ]
  },
  {
   "cell_type": "code",
   "execution_count": null,
   "metadata": {},
   "outputs": [],
   "source": [
    "_, ax = plt.subplots(figsize=(16 / 2, 9 / 2))\n",
    "xx = np.linspace(0, 1, 200)\n",
    "ub = 1 - (K / (K + 1)) * xx\n",
    "ax.plot(xx, ub, \"--\")\n",
    "ax.plot(gamma[gamma >= 0], mean_p[gamma >= 0], \"o\")\n",
    "ax.set_xlabel(r\"$\\gamma_{j,C}$\", fontsize=15)\n",
    "ax.set_ylabel(r\"$p^{S-XRT}_{j,C}$\", fontsize=15)\n",
    "ax.set_xlim([-0.05, 1])\n",
    "ax.set_ylim([0, 1.1])\n",
    "ax.legend([r\"$p^{S-XRT}_{j,C} = 1 - \\frac{K}{K+1} \\gamma_{j,C}$\"])\n",
    "\n",
    "plt.savefig(os.path.join(figure_dir, \"ub.pdf\"), bbox_inches=\"tight\")\n",
    "plt.show()"
   ]
  },
  {
   "cell_type": "code",
   "execution_count": null,
   "metadata": {},
   "outputs": [],
   "source": [
    "_, ax = plt.subplots(figsize=(16 / 2, 9 / 2))\n",
    "xx = np.linspace(-1, 0, 200)\n",
    "lb = (1 / (K + 1)) * (1 + K * (xx**2))\n",
    "ax.plot(xx, lb, \"--\")\n",
    "ax.plot(gamma[gamma < 0], mean_p[gamma < 0], \"o\")\n",
    "ax.set_xlabel(r\"$\\gamma_{j,C}$\", fontsize=15)\n",
    "ax.set_ylabel(r\"$p^{S-XRT}_{j,C}$\", fontsize=15)\n",
    "ax.set_xlim([-1, 0.05])\n",
    "ax.set_ylim([0, 1.1])\n",
    "ax.legend([r\"$p^{S-XRT}_{j,C} = \\frac {1}{K+1}(1 + K(\\gamma_{j,C})^2)$\"])\n",
    "\n",
    "plt.savefig(os.path.join(figure_dir, \"lb.pdf\"), bbox_inches=\"tight\")\n",
    "plt.show()"
   ]
  },
  {
   "cell_type": "code",
   "execution_count": null,
   "metadata": {},
   "outputs": [],
   "source": []
  }
 ],
 "metadata": {
  "kernelspec": {
   "display_name": "Python 3.10.4 ('fairness_project')",
   "language": "python",
   "name": "python3"
  },
  "language_info": {
   "codemirror_mode": {
    "name": "ipython",
    "version": 3
   },
   "file_extension": ".py",
   "mimetype": "text/x-python",
   "name": "python",
   "nbconvert_exporter": "python",
   "pygments_lexer": "ipython3",
   "version": "3.11.5"
  },
  "vscode": {
   "interpreter": {
    "hash": "32ad6245715914d03a8b5beed738b5748673d1a133a5395eb58474bca4b35574"
   }
  }
 },
 "nbformat": 4,
 "nbformat_minor": 2
}
